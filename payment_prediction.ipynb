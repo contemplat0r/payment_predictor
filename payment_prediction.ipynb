{
 "cells": [
  {
   "cell_type": "markdown",
   "metadata": {},
   "source": [
    "Размышления в вольном стиле.\n",
    "При первом взгляде на задачу в памяти всплывает словосочетание \"временные ряды\".\n",
    "В самом деле - имеем данные (\"наблюдения\") полученные через равные промежутки времени. Но наблюдаемых объектов много - т.е. в каждый момент времени имеем несколько (\"много\") значений.\n",
    "Т.е. уже не временной ряд а \"panel data\". Которые панельные данне анализировать посложнее чем временной ряд. С другой стороны проще всё таки рассмотреть данные по каждому из пользователей как независимый\n",
    "от других времменной ряд. Но независимый ли? Но предположим, что независимый - в самом деле как зависит оплата за услуги одного пользователя от оплаты другим, и будем что то делать с данными по каждому пользователю (которые данные - попросту некоторая последовательность чисел) независимо от данных по всем другим. И тут самая главная проблема - моментов времени в которые производились \"наблюдения\" немного, <= 12. Т.е. о каких то \"продвинутых\" техниках работы с временными рядами, выявления периодической, сезонной частей говорить не приходится. С трудом можно (наверное) использовать скользящее среднее. Напрашивается вывод что \"временнорядные\" техники работы с этими данными нам практически без надобности.\n",
    "Тогда как будем строить prediction?  Простейший вариант - считать оплату линейной функцией времени. Ну и использовать линейную регрессию для нахождения оной. По каждому пользователю. А если оплата им, пользователем, услуг от месяца к месяцу сильно колеблеться? Использовать нелинейную функцию времени в качестве аппроксимирующей? Интуиция подсказывает, что в данном случае это не есть хорошее решение. Ну хотя бы, вот такое рассуждение \"на глазок\": для \"хорошего\" пользователя - у которого оплата не \"скачет\" сильно - и линейная регрессия сойдёт, а для \"нехорошего\" пользователя придется подбирать другую причём \"индивидуальную\" аппроксимирующую функцию (напр. полином степени отличной от 1-й). Ключевое слово здесь \"индивидуальная\" - т.е. для каждого пользователя надо подобрать аппроксимирующую функцию. Для каждого! Нет, можно, конечно поступить проще - воспользоваться какой нибудь интерполяционной формулой (напр. Лагранжа) и найти многочлен который точно \"попадёт\" во все точки на плоскости \"время - оплата\" с независимой переменной \"время\". Но что то подсказывает что это решение совсем никуда не годится (Да и вообще это не задача интерполяции - время у нас дискретно, промежуточных значений между точками времени \"март\" и \"апрель\" нет, ). Опять же, сумму оплаты по всем пользователям на следующий месяц скорее всего можно довольно точно предсказать воспользовавшись линейной регрессией (А были бы данные за \"большой\" промежуток времени или точнее \"много\" (> 100)  моментов времени в которые производились наблюдения, то можно было бы и time series forecasting применить). Но это несколько не то что нам нужно. Нужно по каждому пользователю дать prediction.\n",
    "Ну, вообщем, и так уже много написанно, так что лучше сразу перейти к идее решения. Будем рассматривать какую-то часть (подпоследовательность то есть несколько последовательных значений) набора данных по каждому \"пользователю\" в качестве независимых переменных а значение (неизвестное) которое необходимо \"узнать\" - в качестве зависимой переменной. В предельном варианте вся известные N значений по каждому пользователю являються конкретными значениями N независимых переменных а неизвестное значение величины оплаты в следующий месяц  - зависимой переменной.  И соответственно, есть некая функция которая на основе данных значений независимых переменных вычисляет зависимую - \"следующее\" значение оплаты. Тут сразу стоит заметить что в данном случае мы, так сказать, опускаем за ненадобностью \"временнУю\" природу данных.\n",
    "Осталось дело за малым - найти эту функцию от n <= N переменных.Ну а это уже отчётливо поставленная задача машинного обучения. Надо построить нейронную сеть (т.к. при помощи таковой можно аппроксимировать практически любую функцию) принимающую на вход \"предыдущие\" значения оплаты и выдающую на выходе \"последующее\" значение. Для тренировки такой сети можно брать подпоследовательность значений оплаты, например за январь, февраль, ..., июль и вычислять значение за август (которое у нас уже имеется. Положим что у нас есть значения с января по август). Далее \"скормить\" натренированной сети значения за февраль - август и получить значение за сентябрь которое нам и нужно предсказать. С длинной тренировочной подпоследовательности можно поэкспериментировать. Может быть, стоило бы поэкспериментировать с реккурентными нейронными сетями.\n",
    "И последнее. Само собой нам не важно с какими данными в данном случае надо иметь дело - с помесячной оплатой пользователя за объём отправленной почты, или с годовым удоем молока по фермам."
   ]
  },
  {
   "cell_type": "code",
   "execution_count": 81,
   "metadata": {
    "collapsed": true
   },
   "outputs": [],
   "source": [
    "import sys\n",
    "import warnings\n",
    "import pickle\n",
    "\n",
    "import numpy as np\n",
    "import pandas as pd\n",
    "from pandas import Series, DataFrame\n",
    "\n",
    "from numpy.testing import assert_almost_equal, assert_array_equal\n",
    "\n",
    "from sklearn import cross_validation\n",
    "from sknn.mlp import Regressor, Layer\n",
    "from sklearn.preprocessing import StandardScaler, MinMaxScaler\n",
    "from sklearn.grid_search import  GridSearchCV\n",
    "from sklearn.utils.testing import (assert_raises, assert_greater,\n",
    "                                   assert_equal, assert_false)"
   ]
  },
  {
   "cell_type": "code",
   "execution_count": 82,
   "metadata": {
    "collapsed": false
   },
   "outputs": [],
   "source": [
    "np.seterr(all='warn')\n",
    "scaler = StandardScaler()"
   ]
  },
  {
   "cell_type": "code",
   "execution_count": 83,
   "metadata": {
    "collapsed": false
   },
   "outputs": [
    {
     "data": {
      "text/html": [
       "<div>\n",
       "<table border=\"1\" class=\"dataframe\">\n",
       "  <thead>\n",
       "    <tr style=\"text-align: right;\">\n",
       "      <th></th>\n",
       "      <th>January</th>\n",
       "      <th>February</th>\n",
       "      <th>March</th>\n",
       "      <th>April</th>\n",
       "      <th>May</th>\n",
       "      <th>June</th>\n",
       "    </tr>\n",
       "    <tr>\n",
       "      <th>User</th>\n",
       "      <th></th>\n",
       "      <th></th>\n",
       "      <th></th>\n",
       "      <th></th>\n",
       "      <th></th>\n",
       "      <th></th>\n",
       "    </tr>\n",
       "  </thead>\n",
       "  <tbody>\n",
       "    <tr>\n",
       "      <th>1</th>\n",
       "      <td>73.65</td>\n",
       "      <td>91.26</td>\n",
       "      <td>118.50</td>\n",
       "      <td>111.45</td>\n",
       "      <td>110.42</td>\n",
       "      <td>131.20</td>\n",
       "    </tr>\n",
       "    <tr>\n",
       "      <th>2</th>\n",
       "      <td>118.15</td>\n",
       "      <td>127.74</td>\n",
       "      <td>146.49</td>\n",
       "      <td>163.43</td>\n",
       "      <td>163.60</td>\n",
       "      <td>169.54</td>\n",
       "    </tr>\n",
       "    <tr>\n",
       "      <th>3</th>\n",
       "      <td>102.44</td>\n",
       "      <td>129.94</td>\n",
       "      <td>134.28</td>\n",
       "      <td>132.59</td>\n",
       "      <td>140.58</td>\n",
       "      <td>182.04</td>\n",
       "    </tr>\n",
       "    <tr>\n",
       "      <th>4</th>\n",
       "      <td>405.04</td>\n",
       "      <td>489.13</td>\n",
       "      <td>526.05</td>\n",
       "      <td>545.83</td>\n",
       "      <td>570.26</td>\n",
       "      <td>543.84</td>\n",
       "    </tr>\n",
       "  </tbody>\n",
       "</table>\n",
       "</div>"
      ],
      "text/plain": [
       "      January  February   March   April     May    June\n",
       "User                                                   \n",
       "1       73.65     91.26  118.50  111.45  110.42  131.20\n",
       "2      118.15    127.74  146.49  163.43  163.60  169.54\n",
       "3      102.44    129.94  134.28  132.59  140.58  182.04\n",
       "4      405.04    489.13  526.05  545.83  570.26  543.84"
      ]
     },
     "execution_count": 83,
     "metadata": {},
     "output_type": "execute_result"
    }
   ],
   "source": [
    "payment_data = pd.read_csv('user_payments.csv', index_col=0)\n",
    "payment_data.head(4)"
   ]
  },
  {
   "cell_type": "markdown",
   "metadata": {},
   "source": [
    "Как мы видим, данных у нас всего за шесть месяцев что гораздо меньше 12"
   ]
  },
  {
   "cell_type": "code",
   "execution_count": 84,
   "metadata": {
    "collapsed": false
   },
   "outputs": [],
   "source": [
    "payment_data_matrix = payment_data.as_matrix()\n",
    "payment_data_matrix = payment_data_matrix.astype(np.float64)"
   ]
  },
  {
   "cell_type": "markdown",
   "metadata": {},
   "source": [
    "Для удобства всё связанное с обучением нашего multi layer perceptron-а выносим в отдельную функцию."
   ]
  },
  {
   "cell_type": "code",
   "execution_count": 85,
   "metadata": {
    "collapsed": true
   },
   "outputs": [],
   "source": [
    "def train_regression_predictor(train_x, train_y, learning_rule='sgd', learning_rate=0.002, n_iter=20, units=4):\n",
    "    mlp = Regressor(layers=[Layer('Rectifier', units=units),\n",
    "                            Layer('Linear')],\n",
    "                   learning_rule=learning_rule,\n",
    "                   learning_rate=learning_rate,\n",
    "                   n_iter=n_iter)\n",
    "    mlp.fit(train_x, train_y)\n",
    "    print mlp.score(train_x, train_y)\n",
    "    return mlp"
   ]
  },
  {
   "cell_type": "markdown",
   "metadata": {},
   "source": [
    " "
   ]
  },
  {
   "cell_type": "code",
   "execution_count": 86,
   "metadata": {
    "collapsed": false
   },
   "outputs": [],
   "source": [
    "#Выделяем наши независимые переменны.\n",
    "#Это данные по каждому из пользователей с января по апрель\n",
    "#(включительно), всего четыре переменные.\n",
    "independed_vars_values = payment_data_matrix[0:,:4]"
   ]
  },
  {
   "cell_type": "code",
   "execution_count": 87,
   "metadata": {
    "collapsed": true
   },
   "outputs": [],
   "source": [
    "#Выделяем независимую переменную - данные за май\n",
    "depended_var_values = payment_data_matrix[0:, 4]"
   ]
  },
  {
   "cell_type": "code",
   "execution_count": 88,
   "metadata": {
    "collapsed": true
   },
   "outputs": [],
   "source": [
    "train_x, test_x, train_y, test_y = cross_validation.train_test_split(independed_vars_values, depended_var_values, test_size=0.3)"
   ]
  },
  {
   "cell_type": "code",
   "execution_count": 89,
   "metadata": {
    "collapsed": true
   },
   "outputs": [],
   "source": [
    "train_x = scaler.fit_transform(train_x)\n",
    "test_x = scaler.fit_transform(test_x)"
   ]
  },
  {
   "cell_type": "code",
   "execution_count": 90,
   "metadata": {
    "collapsed": false
   },
   "outputs": [
    {
     "name": "stdout",
     "output_type": "stream",
     "text": [
      "0.964160850092\n"
     ]
    }
   ],
   "source": [
    "payment_mlp = train_regression_predictor(train_x, train_y, learning_rule='sgd', learning_rate=0.0002, n_iter=20, units=4)"
   ]
  },
  {
   "cell_type": "code",
   "execution_count": 91,
   "metadata": {
    "collapsed": false
   },
   "outputs": [],
   "source": [
    "#pickle.dump(payment_mlp, open('payment_mlp.pkl', 'wb'))\n",
    "score = payment_mlp.score(test_x, test_y)"
   ]
  },
  {
   "cell_type": "code",
   "execution_count": null,
   "metadata": {
    "collapsed": false
   },
   "outputs": [],
   "source": []
  },
  {
   "cell_type": "code",
   "execution_count": 92,
   "metadata": {
    "collapsed": false
   },
   "outputs": [],
   "source": [
    "# Выделяем \"реальные\" (февраль-май) значения независмых переменных\n",
    "# на которых обученная нейронная сеть будет вычислять оплату\n",
    "# на следующий месяц (июнь) \n",
    "real_x = payment_data_matrix[0:, 1:5]\n",
    "real_x = scaler.fit_transform(real_x)"
   ]
  },
  {
   "cell_type": "code",
   "execution_count": 93,
   "metadata": {
    "collapsed": false
   },
   "outputs": [],
   "source": [
    "# А вот пришли \"реальные\" данные за июнь\n",
    "real_y = payment_data_matrix[0:, 5]"
   ]
  },
  {
   "cell_type": "code",
   "execution_count": 94,
   "metadata": {
    "collapsed": false
   },
   "outputs": [
    {
     "name": "stdout",
     "output_type": "stream",
     "text": [
      "0.894701052346\n",
      "0.966478555986\n",
      "0.83712155004\n",
      "predicted values and real values score 0.943858998779\n"
     ]
    }
   ],
   "source": [
    "# Немного покроссвалидируем\n",
    "best_mlp = payment_mlp\n",
    "for i, (train_indices, test_indices) in enumerate(cross_validation.KFold(depended_var_values.size, n_folds=3, shuffle=True)):\n",
    "    train_x = independed_vars_values[train_indices]\n",
    "    test_x = independed_vars_values[test_indices]\n",
    "    train_y = depended_var_values[train_indices]\n",
    "    test_y = depended_var_values[test_indices]\n",
    "    train_x = scaler.fit_transform(train_x)\n",
    "    test_x = scaler.fit_transform(test_x)\n",
    "    payment_mlp = train_regression_predictor(train_x, train_y, learning_rule='sgd', learning_rate=0.0002, n_iter=20, units=10)\n",
    "    pickle.dump(payment_mlp, open('payment_mlp_cv_0%s_sgd.pkl' % str(i), 'wb'))\n",
    "    crossvalidation_score = payment_mlp.score(test_x, test_y)\n",
    "    if crossvalidation_score > score:\n",
    "        score = crossvalidation_score\n",
    "        best_mlp = payment_mlp\n",
    "    \n",
    "print 'predicted values and real values score', best_mlp.score(real_x, real_y)"
   ]
  },
  {
   "cell_type": "code",
   "execution_count": 95,
   "metadata": {
    "collapsed": true
   },
   "outputs": [],
   "source": [
    "predicted_y = best_mlp.predict(real_x)\n",
    "predicted_y = predicted_y.reshape(predicted_y.shape[0],)"
   ]
  },
  {
   "cell_type": "code",
   "execution_count": 96,
   "metadata": {
    "collapsed": false
   },
   "outputs": [
    {
     "data": {
      "text/html": [
       "<div>\n",
       "<table border=\"1\" class=\"dataframe\">\n",
       "  <thead>\n",
       "    <tr style=\"text-align: right;\">\n",
       "      <th></th>\n",
       "      <th>predicted</th>\n",
       "      <th>real</th>\n",
       "    </tr>\n",
       "  </thead>\n",
       "  <tbody>\n",
       "    <tr>\n",
       "      <th>0</th>\n",
       "      <td>118.66</td>\n",
       "      <td>131.20</td>\n",
       "    </tr>\n",
       "    <tr>\n",
       "      <th>1</th>\n",
       "      <td>180.99</td>\n",
       "      <td>169.54</td>\n",
       "    </tr>\n",
       "    <tr>\n",
       "      <th>2</th>\n",
       "      <td>151.78</td>\n",
       "      <td>182.04</td>\n",
       "    </tr>\n",
       "    <tr>\n",
       "      <th>3</th>\n",
       "      <td>674.23</td>\n",
       "      <td>543.84</td>\n",
       "    </tr>\n",
       "    <tr>\n",
       "      <th>4</th>\n",
       "      <td>157.22</td>\n",
       "      <td>125.72</td>\n",
       "    </tr>\n",
       "    <tr>\n",
       "      <th>5</th>\n",
       "      <td>186.58</td>\n",
       "      <td>169.95</td>\n",
       "    </tr>\n",
       "    <tr>\n",
       "      <th>6</th>\n",
       "      <td>266.15</td>\n",
       "      <td>236.43</td>\n",
       "    </tr>\n",
       "    <tr>\n",
       "      <th>7</th>\n",
       "      <td>222.94</td>\n",
       "      <td>216.86</td>\n",
       "    </tr>\n",
       "    <tr>\n",
       "      <th>8</th>\n",
       "      <td>696.27</td>\n",
       "      <td>608.13</td>\n",
       "    </tr>\n",
       "    <tr>\n",
       "      <th>9</th>\n",
       "      <td>334.88</td>\n",
       "      <td>283.80</td>\n",
       "    </tr>\n",
       "    <tr>\n",
       "      <th>10</th>\n",
       "      <td>183.77</td>\n",
       "      <td>171.03</td>\n",
       "    </tr>\n",
       "    <tr>\n",
       "      <th>11</th>\n",
       "      <td>264.72</td>\n",
       "      <td>237.51</td>\n",
       "    </tr>\n",
       "    <tr>\n",
       "      <th>12</th>\n",
       "      <td>319.63</td>\n",
       "      <td>414.29</td>\n",
       "    </tr>\n",
       "    <tr>\n",
       "      <th>13</th>\n",
       "      <td>270.22</td>\n",
       "      <td>266.91</td>\n",
       "    </tr>\n",
       "    <tr>\n",
       "      <th>14</th>\n",
       "      <td>72.94</td>\n",
       "      <td>63.81</td>\n",
       "    </tr>\n",
       "    <tr>\n",
       "      <th>15</th>\n",
       "      <td>301.17</td>\n",
       "      <td>358.04</td>\n",
       "    </tr>\n",
       "    <tr>\n",
       "      <th>16</th>\n",
       "      <td>97.80</td>\n",
       "      <td>101.87</td>\n",
       "    </tr>\n",
       "    <tr>\n",
       "      <th>17</th>\n",
       "      <td>102.31</td>\n",
       "      <td>120.34</td>\n",
       "    </tr>\n",
       "    <tr>\n",
       "      <th>18</th>\n",
       "      <td>115.03</td>\n",
       "      <td>159.39</td>\n",
       "    </tr>\n",
       "    <tr>\n",
       "      <th>19</th>\n",
       "      <td>160.19</td>\n",
       "      <td>140.07</td>\n",
       "    </tr>\n",
       "  </tbody>\n",
       "</table>\n",
       "</div>"
      ],
      "text/plain": [
       "    predicted    real\n",
       "0      118.66  131.20\n",
       "1      180.99  169.54\n",
       "2      151.78  182.04\n",
       "3      674.23  543.84\n",
       "4      157.22  125.72\n",
       "5      186.58  169.95\n",
       "6      266.15  236.43\n",
       "7      222.94  216.86\n",
       "8      696.27  608.13\n",
       "9      334.88  283.80\n",
       "10     183.77  171.03\n",
       "11     264.72  237.51\n",
       "12     319.63  414.29\n",
       "13     270.22  266.91\n",
       "14      72.94   63.81\n",
       "15     301.17  358.04\n",
       "16      97.80  101.87\n",
       "17     102.31  120.34\n",
       "18     115.03  159.39\n",
       "19     160.19  140.07"
      ]
     },
     "execution_count": 96,
     "metadata": {},
     "output_type": "execute_result"
    }
   ],
   "source": [
    "predicted_and_true_values = DataFrame({'predicted' : predicted_y.round(decimals=2), 'real' : real_y})\n",
    "predicted_and_true_values.head(20)"
   ]
  },
  {
   "cell_type": "code",
   "execution_count": 97,
   "metadata": {
    "collapsed": true
   },
   "outputs": [],
   "source": [
    "predicted_and_true_values.to_csv('predicted_and_true_values.csv')"
   ]
  },
  {
   "cell_type": "code",
   "execution_count": 112,
   "metadata": {
    "collapsed": false
   },
   "outputs": [
    {
     "name": "stdout",
     "output_type": "stream",
     "text": [
      "{'nonlinear__units': 7, 'learning_rate': 2e-05, 'nonlinear__type': 'ExpLin'} 0.925236379552\n"
     ]
    }
   ],
   "source": [
    "# Поэкспериментируем с автоматическим подбором параметров обучаемого \n",
    "# персептрона используя встроенные средства scikit-learn \n",
    "\n",
    "units = range(4, 15)\n",
    "learning_rate = [0.00002, 0.00001, 0.000005]\n",
    "layer_type = ['Rectifier', 'Sigmoid', 'Tanh', 'ExpLin']\n",
    "param_grid = {'learning_rate' : learning_rate,\n",
    "              'nonlinear__units' : units,\n",
    "              'nonlinear__type' : layer_type,\n",
    "             }\n",
    "nonlinear_layer = Layer('Rectifier', units=4, name='nonlinear')\n",
    "tuned_regressor_mlp = Regressor(layers=[nonlinear_layer,\n",
    "                                        Layer('Linear')],\n",
    "                                learning_rate=0.00002,\n",
    "                                n_iter=10)\n",
    "x = scaler.fit_transform(independed_vars_values)\n",
    "y = depended_var_values\n",
    "gs = GridSearchCV(tuned_regressor_mlp, param_grid=param_grid, cv=3)\n",
    "gs.fit(x, y)\n",
    "print gs.best_params_, gs.best_score_\n",
    "best_mlp_by_gs = gs.best_estimator_"
   ]
  },
  {
   "cell_type": "code",
   "execution_count": 113,
   "metadata": {
    "collapsed": false
   },
   "outputs": [
    {
     "name": "stdout",
     "output_type": "stream",
     "text": [
      "predicted by best gs mlp values and real values score 0.914137876313\n"
     ]
    }
   ],
   "source": [
    "print 'predicted by best gs mlp values and real values score', best_mlp_by_gs.score(real_x, real_y)"
   ]
  },
  {
   "cell_type": "code",
   "execution_count": 114,
   "metadata": {
    "collapsed": false
   },
   "outputs": [
    {
     "data": {
      "text/html": [
       "<div>\n",
       "<table border=\"1\" class=\"dataframe\">\n",
       "  <thead>\n",
       "    <tr style=\"text-align: right;\">\n",
       "      <th></th>\n",
       "      <th>predicted</th>\n",
       "      <th>real</th>\n",
       "    </tr>\n",
       "  </thead>\n",
       "  <tbody>\n",
       "    <tr>\n",
       "      <th>0</th>\n",
       "      <td>116.96</td>\n",
       "      <td>131.20</td>\n",
       "    </tr>\n",
       "    <tr>\n",
       "      <th>1</th>\n",
       "      <td>165.45</td>\n",
       "      <td>169.54</td>\n",
       "    </tr>\n",
       "    <tr>\n",
       "      <th>2</th>\n",
       "      <td>141.54</td>\n",
       "      <td>182.04</td>\n",
       "    </tr>\n",
       "    <tr>\n",
       "      <th>3</th>\n",
       "      <td>585.43</td>\n",
       "      <td>543.84</td>\n",
       "    </tr>\n",
       "    <tr>\n",
       "      <th>4</th>\n",
       "      <td>147.27</td>\n",
       "      <td>125.72</td>\n",
       "    </tr>\n",
       "    <tr>\n",
       "      <th>5</th>\n",
       "      <td>170.95</td>\n",
       "      <td>169.95</td>\n",
       "    </tr>\n",
       "    <tr>\n",
       "      <th>6</th>\n",
       "      <td>234.27</td>\n",
       "      <td>236.43</td>\n",
       "    </tr>\n",
       "    <tr>\n",
       "      <th>7</th>\n",
       "      <td>201.11</td>\n",
       "      <td>216.86</td>\n",
       "    </tr>\n",
       "    <tr>\n",
       "      <th>8</th>\n",
       "      <td>606.28</td>\n",
       "      <td>608.13</td>\n",
       "    </tr>\n",
       "    <tr>\n",
       "      <th>9</th>\n",
       "      <td>299.55</td>\n",
       "      <td>283.80</td>\n",
       "    </tr>\n",
       "    <tr>\n",
       "      <th>10</th>\n",
       "      <td>165.88</td>\n",
       "      <td>171.03</td>\n",
       "    </tr>\n",
       "    <tr>\n",
       "      <th>11</th>\n",
       "      <td>235.63</td>\n",
       "      <td>237.51</td>\n",
       "    </tr>\n",
       "    <tr>\n",
       "      <th>12</th>\n",
       "      <td>271.47</td>\n",
       "      <td>414.29</td>\n",
       "    </tr>\n",
       "    <tr>\n",
       "      <th>13</th>\n",
       "      <td>234.96</td>\n",
       "      <td>266.91</td>\n",
       "    </tr>\n",
       "    <tr>\n",
       "      <th>14</th>\n",
       "      <td>80.09</td>\n",
       "      <td>63.81</td>\n",
       "    </tr>\n",
       "    <tr>\n",
       "      <th>15</th>\n",
       "      <td>259.60</td>\n",
       "      <td>358.04</td>\n",
       "    </tr>\n",
       "    <tr>\n",
       "      <th>16</th>\n",
       "      <td>98.21</td>\n",
       "      <td>101.87</td>\n",
       "    </tr>\n",
       "    <tr>\n",
       "      <th>17</th>\n",
       "      <td>101.79</td>\n",
       "      <td>120.34</td>\n",
       "    </tr>\n",
       "    <tr>\n",
       "      <th>18</th>\n",
       "      <td>116.25</td>\n",
       "      <td>159.39</td>\n",
       "    </tr>\n",
       "    <tr>\n",
       "      <th>19</th>\n",
       "      <td>150.26</td>\n",
       "      <td>140.07</td>\n",
       "    </tr>\n",
       "  </tbody>\n",
       "</table>\n",
       "</div>"
      ],
      "text/plain": [
       "    predicted    real\n",
       "0      116.96  131.20\n",
       "1      165.45  169.54\n",
       "2      141.54  182.04\n",
       "3      585.43  543.84\n",
       "4      147.27  125.72\n",
       "5      170.95  169.95\n",
       "6      234.27  236.43\n",
       "7      201.11  216.86\n",
       "8      606.28  608.13\n",
       "9      299.55  283.80\n",
       "10     165.88  171.03\n",
       "11     235.63  237.51\n",
       "12     271.47  414.29\n",
       "13     234.96  266.91\n",
       "14      80.09   63.81\n",
       "15     259.60  358.04\n",
       "16      98.21  101.87\n",
       "17     101.79  120.34\n",
       "18     116.25  159.39\n",
       "19     150.26  140.07"
      ]
     },
     "execution_count": 114,
     "metadata": {},
     "output_type": "execute_result"
    }
   ],
   "source": [
    "predicted_y = best_mlp_by_gs.predict(real_x)\n",
    "predicted_y = predicted_y.reshape(predicted_y.shape[0],)\n",
    "predicted_and_true_values = DataFrame({'predicted' : predicted_y.round(decimals=2), 'real' : real_y})\n",
    "predicted_and_true_values.to_csv('predicted_by_best_gs_mlp_and_true_values.csv')\n",
    "predicted_and_true_values.head(20)"
   ]
  },
  {
   "cell_type": "markdown",
   "metadata": {},
   "source": [
    "На самом деле данные по \"пользователям\" и их \"ежемесячной оплате\" - это несколько видоизменённый  датасет \"Spanish Dairy Farm Production\" взятый вот здесь http://people.stern.nyu.edu/wgreene/Econometrics/PanelDataSets.htm. Так что наши \"пользователи\" - это на самом деле фермы, \"месяцы\" - года с 93 по 98 а \"оплата\" - количество произведённого молока (делённое на 1000). Хотелось всё таки поработать с более-менее реальными данными подходящими под условия задачи.\n",
    "Желательно бы конечно работать с данными о большем количестве наблюдаемых объектов (\"пользовтелей\") - несколько тысяч, данный датасет несколько маловат, и вряд ли на нём можно обучить наш персептрон достато хорошо. Ну и конечно же хотелось бы большего количества наблюдений, что бы, поэкспериментировать, например, с количеством независимых переменных да и вообще в данном случае больше - лучше.\n",
    "Сгенерировать же условный датасет, по каким то критериям близкий к реальному - само по себе непростая задача. Хороший генератор реальных датасетов - реальный мир. "
   ]
  }
 ],
 "metadata": {
  "kernelspec": {
   "display_name": "Python 2",
   "language": "python",
   "name": "python2"
  },
  "language_info": {
   "codemirror_mode": {
    "name": "ipython",
    "version": 2
   },
   "file_extension": ".py",
   "mimetype": "text/x-python",
   "name": "python",
   "nbconvert_exporter": "python",
   "pygments_lexer": "ipython2",
   "version": "2.7.8"
  }
 },
 "nbformat": 4,
 "nbformat_minor": 0
}
